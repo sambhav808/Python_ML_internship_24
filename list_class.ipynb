{
 "cells": [
  {
   "cell_type": "code",
   "execution_count": 24,
   "id": "34dda394-c4b5-4f45-9f61-25ad57a2d920",
   "metadata": {},
   "outputs": [
    {
     "name": "stdin",
     "output_type": "stream",
     "text": [
      " adheesh chopra\n"
     ]
    },
    {
     "name": "stdout",
     "output_type": "stream",
     "text": [
      "('adheesh', 'chopra')\n"
     ]
    }
   ],
   "source": [
    "l = tuple(map(str,input().split()))\n",
    "print(l)"
   ]
  },
  {
   "cell_type": "code",
   "execution_count": 21,
   "id": "43efbd45-78d7-451d-81fe-bb52448bbfd8",
   "metadata": {},
   "outputs": [
    {
     "name": "stdout",
     "output_type": "stream",
     "text": [
      "10\n",
      "20\n",
      "This is a fun1 from class A\n"
     ]
    }
   ],
   "source": [
    "class A:\n",
    "    def __init__(self):\n",
    "        self.a = 10\n",
    "        self.b = 20\n",
    "    def fun1(self):\n",
    "        print(\"This is a fun1 from class A\")\n",
    "\n",
    "class B(A):\n",
    "    def __init__(self):\n",
    "        self.a = 11\n",
    "        self.b = 22\n",
    "    def fun1(self):\n",
    "        print(\"This is a fun1 from class B\")\n",
    "\n",
    "if __name__ == \"__main__\":\n",
    "    obj = A()\n",
    "    print(obj.a)\n",
    "    print(obj.b)\n",
    "    obj.fun1()"
   ]
  },
  {
   "cell_type": "code",
   "execution_count": 23,
   "id": "faf29318-fd91-499e-9e08-951e1e6d26ce",
   "metadata": {},
   "outputs": [
    {
     "name": "stdout",
     "output_type": "stream",
     "text": [
      "11\n",
      "22\n",
      "This is a fun1 from class B\n"
     ]
    }
   ],
   "source": [
    "class A:\n",
    "    def __init__(self):\n",
    "        self.a = 10\n",
    "        self.b = 20\n",
    "    def fun1(self):\n",
    "        print(\"This is a fun1 from class A\")\n",
    "\n",
    "class B(A):\n",
    "    def __init__(self):\n",
    "        self.a = 11\n",
    "        self.b = 22\n",
    "    def fun1(self):\n",
    "        print(\"This is a fun1 from class B\")\n",
    "\n",
    "if __name__ == \"__main__\":\n",
    "    obj = B()\n",
    "    print(obj.a)\n",
    "    print(obj.b)\n",
    "    obj.fun1()"
   ]
  },
  {
   "cell_type": "code",
   "execution_count": null,
   "id": "8521436e-7e48-4983-a02a-c03fab847c48",
   "metadata": {},
   "outputs": [],
   "source": []
  }
 ],
 "metadata": {
  "kernelspec": {
   "display_name": "Python 3 (ipykernel)",
   "language": "python",
   "name": "python3"
  },
  "language_info": {
   "codemirror_mode": {
    "name": "ipython",
    "version": 3
   },
   "file_extension": ".py",
   "mimetype": "text/x-python",
   "name": "python",
   "nbconvert_exporter": "python",
   "pygments_lexer": "ipython3",
   "version": "3.12.4"
  }
 },
 "nbformat": 4,
 "nbformat_minor": 5
}
