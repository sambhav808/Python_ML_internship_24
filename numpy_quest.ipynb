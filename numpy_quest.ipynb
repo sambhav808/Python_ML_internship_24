{
 "cells": [
  {
   "cell_type": "code",
   "execution_count": 1,
   "id": "27693b8d-1fd3-483e-9a47-43d18639cbed",
   "metadata": {},
   "outputs": [],
   "source": [
    "import numpy as np"
   ]
  },
  {
   "cell_type": "code",
   "execution_count": 2,
   "id": "d32aa268-cdba-404d-9d1a-f204054ba757",
   "metadata": {},
   "outputs": [],
   "source": [
    "scores = np.array([[85, 90, 78],\n",
    "                   [92, 88, 95],\n",
    "                   [76, 95, 85],\n",
    "                   [90, 85, 92],\n",
    "                   [88, 76, 89]])"
   ]
  },
  {
   "cell_type": "code",
   "execution_count": 3,
   "id": "e9f849e8-9625-437c-be4b-5345ecb38b21",
   "metadata": {},
   "outputs": [
    {
     "data": {
      "text/plain": [
       "array([[85, 90, 78],\n",
       "       [92, 88, 95],\n",
       "       [76, 95, 85],\n",
       "       [90, 85, 92],\n",
       "       [88, 76, 89]])"
      ]
     },
     "execution_count": 3,
     "metadata": {},
     "output_type": "execute_result"
    }
   ],
   "source": [
    "scores"
   ]
  },
  {
   "cell_type": "code",
   "execution_count": 4,
   "id": "6cee229a-daad-4126-a71b-58e7cad4d378",
   "metadata": {},
   "outputs": [
    {
     "name": "stdout",
     "output_type": "stream",
     "text": [
      "Mean scores for each subject: [86.2 86.8 87.8]\n"
     ]
    }
   ],
   "source": [
    "mean_scores = np.mean(scores, axis=0)\n",
    "print(\"Mean scores for each subject:\", mean_scores)"
   ]
  },
  {
   "cell_type": "code",
   "execution_count": 5,
   "id": "c763aa32-e72e-4d8b-a5ce-a820a97dc550",
   "metadata": {},
   "outputs": [
    {
     "name": "stdout",
     "output_type": "stream",
     "text": [
      "Mean scores for each subject: [88. 88. 89.]\n"
     ]
    }
   ],
   "source": [
    "mean_scores = np.median(scores, axis=0)\n",
    "print(\"Mean scores for each subject:\", mean_scores)"
   ]
  },
  {
   "cell_type": "code",
   "execution_count": 9,
   "id": "2cf4bb2b-52be-417b-bf86-00806129fd1b",
   "metadata": {},
   "outputs": [
    {
     "name": "stdout",
     "output_type": "stream",
     "text": [
      "Total scores of each student: [253 275 256 267 253]\n",
      "Scores of the student with the highest total score: [92 88 95]\n"
     ]
    }
   ],
   "source": [
    "total_scores = np.sum(scores, axis=1)\n",
    "index_of_highest_total = np.argmax(total_scores)\n",
    "highest_total_scores = scores[index_of_highest_total]\n",
    "print(\"Total scores of each student:\", total_scores)\n",
    "print(\"Scores of the student with the highest total score:\", highest_total_scores)"
   ]
  },
  {
   "cell_type": "code",
   "execution_count": 10,
   "id": "17357946-6c2a-49a2-8bba-adbc77eb5379",
   "metadata": {},
   "outputs": [
    {
     "name": "stdout",
     "output_type": "stream",
     "text": [
      "Maximum scores for each subject: [92 95 95]\n",
      "Minimum scores for each subject: [76 76 78]\n"
     ]
    }
   ],
   "source": [
    "max_scores = np.max(scores, axis=0)\n",
    "min_scores = np.min(scores, axis=0)\n",
    "print(\"Maximum scores for each subject:\", max_scores)\n",
    "print(\"Minimum scores for each subject:\", min_scores)"
   ]
  },
  {
   "cell_type": "code",
   "execution_count": 11,
   "id": "f0baec0e-4b07-4cb9-a732-fcc37a6604ce",
   "metadata": {},
   "outputs": [
    {
     "name": "stdout",
     "output_type": "stream",
     "text": [
      "Reshaped array:\n",
      "[[85 92 76 90 88]\n",
      " [90 88 95 85 76]\n",
      " [78 95 85 92 89]]\n"
     ]
    }
   ],
   "source": [
    "transposed_scores = scores.T\n",
    "reshaped_scores = transposed_scores.reshape(3, 5)\n",
    "print(\"Reshaped array:\")\n",
    "print(reshaped_scores)"
   ]
  },
  {
   "cell_type": "code",
   "execution_count": null,
   "id": "e110af67-7112-4b97-918b-72bfcef35911",
   "metadata": {},
   "outputs": [],
   "source": []
  }
 ],
 "metadata": {
  "kernelspec": {
   "display_name": "Python 3 (ipykernel)",
   "language": "python",
   "name": "python3"
  },
  "language_info": {
   "codemirror_mode": {
    "name": "ipython",
    "version": 3
   },
   "file_extension": ".py",
   "mimetype": "text/x-python",
   "name": "python",
   "nbconvert_exporter": "python",
   "pygments_lexer": "ipython3",
   "version": "3.12.4"
  }
 },
 "nbformat": 4,
 "nbformat_minor": 5
}
