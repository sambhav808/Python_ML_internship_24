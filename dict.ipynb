{
 "cells": [
  {
   "cell_type": "code",
   "execution_count": 5,
   "id": "fb8b5247-4264-4a97-9180-48159ae45104",
   "metadata": {},
   "outputs": [
    {
     "name": "stdout",
     "output_type": "stream",
     "text": [
      "a=2\n",
      "b=3\n",
      "c=1\n",
      "d=1\n"
     ]
    }
   ],
   "source": [
    "def count_values(input_dict):\n",
    "    # Dictionary to store the frequency of each value\n",
    "    value_count = {}\n",
    "    \n",
    "    # Populate the frequency dictionary\n",
    "    for key, value in input_dict.items():\n",
    "        if value in value_count:\n",
    "            value_count[value] += 1\n",
    "        else:\n",
    "            value_count[value] = 1\n",
    "    \n",
    "    return value_count\n",
    "\n",
    "# Sample input dictionary\n",
    "input_dict = {\n",
    "    's1': 'a',\n",
    "    's2': 'b',\n",
    "    's3': 'a',\n",
    "    's4': 'b',\n",
    "    's5': 'c',\n",
    "    's6': 'b',\n",
    "    's7': 'd'\n",
    "}\n",
    "\n",
    "# Count the values\n",
    "result = count_values(input_dict)\n",
    "\n",
    "# Print the result\n",
    "for value, count in result.items():\n",
    "    print(f\"{value}={count}\")"
   ]
  },
  {
   "cell_type": "code",
   "execution_count": 2,
   "id": "02397b3b-9f52-41d9-af0b-8d8427c8da10",
   "metadata": {},
   "outputs": [
    {
     "name": "stdout",
     "output_type": "stream",
     "text": [
      "{1: 2, 2: 3, 3: 3, 4: 1}\n"
     ]
    }
   ],
   "source": [
    "DIP = {'A' : 1, 'B' : 1, 'C' : 2, 'D' : 3, 'E' : 2, 'F' : 2, 'G' : 3, 'H' : 4 , 'I' : 3}\n",
    "DOP= {}\n",
    "for i in DIP.values():\n",
    "    if i in DOP.keys():\n",
    "        DOP[i]=DOP[i]+1\n",
    "    else:\n",
    "        DOP[i]=1\n",
    "\n",
    "print(DOP)"
   ]
  },
  {
   "cell_type": "code",
   "execution_count": 25,
   "id": "c0e2514c-6da6-4030-8453-a07f7b7a3518",
   "metadata": {},
   "outputs": [
    {
     "name": "stdin",
     "output_type": "stream",
     "text": [
      "Enter the value of A:  23\n",
      "Enter the value of B:  56\n"
     ]
    },
    {
     "name": "stdout",
     "output_type": "stream",
     "text": [
      "Sum = 79\n"
     ]
    }
   ],
   "source": [
    "def addnum():\n",
    "    a = int(input(\"Enter the value of A: \"))\n",
    "    b = int(input(\"Enter the value of B: \"))\n",
    "    return a+b\n",
    "\n",
    "if __name__ == \"__main__\" :\n",
    "    print(\"Sum =\", addnum())"
   ]
  },
  {
   "cell_type": "code",
   "execution_count": 23,
   "id": "ed668acc-355a-484a-8962-10a41624d7a7",
   "metadata": {},
   "outputs": [
    {
     "name": "stdout",
     "output_type": "stream",
     "text": [
      "Palindrome\n"
     ]
    }
   ],
   "source": [
    "list = [\"o\",\"p\",\"p\",\"o\"]\n",
    "\n",
    "copy_list = list.copy()\n",
    "copy_list.reverse()\n",
    "\n",
    "def pali():\n",
    "    if(copy_list == list):\n",
    "        print(\"Palindrome\")\n",
    "    else:\n",
    "        print(\"Not Palindrome\")\n",
    "\n",
    "pali()"
   ]
  }
 ],
 "metadata": {
  "kernelspec": {
   "display_name": "Python 3 (ipykernel)",
   "language": "python",
   "name": "python3"
  },
  "language_info": {
   "codemirror_mode": {
    "name": "ipython",
    "version": 3
   },
   "file_extension": ".py",
   "mimetype": "text/x-python",
   "name": "python",
   "nbconvert_exporter": "python",
   "pygments_lexer": "ipython3",
   "version": "3.12.4"
  }
 },
 "nbformat": 4,
 "nbformat_minor": 5
}
