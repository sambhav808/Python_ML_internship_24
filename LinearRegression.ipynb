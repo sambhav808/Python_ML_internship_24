{
 "cells": [
  {
   "cell_type": "code",
   "execution_count": 1,
   "id": "f2c109c8",
   "metadata": {},
   "outputs": [],
   "source": [
    "import numpy as np\n",
    "import pandas as pd\n",
    "import matplotlib.pyplot as plt\n",
    "from sklearn.linear_model import LinearRegression as LR\n",
    "from sklearn.metrics import mean_squared_error,mean_absolute_error,r2_score"
   ]
  },
  {
   "cell_type": "markdown",
   "id": "4014a45d",
   "metadata": {},
   "source": [
    "linear regression\n",
    "\n",
    "single class\n",
    "\n",
    "engine_size vs price\n",
    "\n",
    "plot the graph\n",
    "\n",
    "error find\n"
   ]
  },
  {
   "cell_type": "code",
   "execution_count": 2,
   "id": "f126860a",
   "metadata": {},
   "outputs": [],
   "source": [
    "np.random.seed(0)\n",
    "E_S = np.random.normal(2.0,0.5,100)\n",
    "price = 1000+ E_S*1000 +np.random.normal(0,2000,100)"
   ]
  },
  {
   "cell_type": "code",
   "execution_count": 3,
   "id": "a1a986eb",
   "metadata": {},
   "outputs": [
    {
     "data": {
      "text/plain": [
       "array([2.88202617, 2.2000786 , 2.48936899, 3.1204466 , 2.933779  ,\n",
       "       1.51136106, 2.47504421, 1.9243214 , 1.94839057, 2.20529925,\n",
       "       2.07202179, 2.72713675, 2.38051886, 2.06083751, 2.22193162,\n",
       "       2.16683716, 2.74703954, 1.89742087, 2.15653385, 1.57295213,\n",
       "       0.72350509, 2.3268093 , 2.4322181 , 1.62891749, 3.13487731,\n",
       "       1.27281716, 2.02287926, 1.90640807, 2.76638961, 2.73467938,\n",
       "       2.07747371, 2.18908126, 1.55610713, 1.00960177, 1.82604393,\n",
       "       2.07817448, 2.61514534, 2.60118992, 1.80633659, 1.84884862,\n",
       "       1.47572352, 1.28999103, 1.1468649 , 2.9753877 , 1.74517391,\n",
       "       1.78096285, 1.37360232, 2.38874518, 1.19305108, 1.89362986,\n",
       "       1.55226672, 2.19345125, 1.74459743, 1.40968391, 1.98590889,\n",
       "       2.21416594, 2.03325861, 2.15123595, 1.68283895, 1.81862942,\n",
       "       1.66376978, 1.82022342, 1.59342686, 1.1368587 , 2.08871307,\n",
       "       1.79910953, 1.18490083, 2.23139113, 1.54635082, 2.0259727 ,\n",
       "       2.36454528, 2.06449146, 2.56970034, 1.38258709, 2.20117082,\n",
       "       1.65759495, 1.56460143, 1.71057517, 1.84422373, 2.02808267,\n",
       "       1.41742508, 2.45041324, 2.23283122, 1.23187816, 2.7441261 ,\n",
       "       2.94794459, 2.58938979, 1.91003758, 1.46462369, 2.52722586,\n",
       "       1.79841153, 2.61122254, 2.10413749, 2.48831952, 2.1781832 ,\n",
       "       2.35328658, 2.00525001, 2.89293525, 2.06345605, 2.20099468])"
      ]
     },
     "execution_count": 3,
     "metadata": {},
     "output_type": "execute_result"
    }
   ],
   "source": [
    "E_S"
   ]
  },
  {
   "cell_type": "code",
   "execution_count": 4,
   "id": "590238a8",
   "metadata": {},
   "outputs": [
    {
     "data": {
      "text/plain": [
       "array([ 7648.3275671 ,   504.5604819 ,   948.39899508,  6059.24001592,\n",
       "        1587.53218485,  6398.60343136,  2647.80624724,  1429.41177297,\n",
       "        6794.27462706,  6166.32883384,  6807.13970643,  5539.22607003,\n",
       "        1658.06749246,  6880.96741444,  2685.92487447,  4771.74995528,\n",
       "        5641.54347213,  2587.40068194,  4384.69259152,  4417.36547348,\n",
       "        2476.35615439,  1128.00771655,  4028.69444784,  5281.68928317,\n",
       "        2745.74159253,  1973.54808205,  2152.57215521,  6604.93553195,\n",
       "        5110.9791212 ,  4549.60305743,  1537.64156396,  4267.57964238,\n",
       "        1207.44180487,  2073.26288244,  1554.35176858,  4431.04107444,\n",
       "        4768.32697359,  3184.59241324,  3598.35001662,   662.72560725,\n",
       "        -506.79166794,  3168.77443394,  2480.21189543,  5245.4505714 ,\n",
       "        7511.46345885,  4669.92182318,   547.95786909,  5622.77775411,\n",
       "        -438.7637448 ,  1970.46065026,  2415.78350875,  6620.13669223,\n",
       "        1255.08778712,   756.80683062,  2789.00383698,  1887.20936254,\n",
       "        5286.5304554 ,   991.37293214,   387.90164834,  1942.98932752,\n",
       "        1667.70487473,  6679.28752686,  4492.26847283,  2311.9611816 ,\n",
       "         637.84203347,  4487.8354847 ,   184.47013174,   141.84893421,\n",
       "        4922.41040251,  3659.85792175,  5206.26292865,  3701.94676126,\n",
       "        5283.36156608,  1080.53590322,  1132.68513702,  4020.78399109,\n",
       "         957.78209706,  1331.47561212,  1933.1587269 ,  3063.04098916,\n",
       "        1709.4372571 ,   700.51065664,  1945.5944142 , -2214.92814759,\n",
       "        4994.58899895,   743.8292768 ,  1380.62310672,  3014.36774062,\n",
       "         985.49769646,  6613.25505428,   212.69770707,  4145.32427389,\n",
       "        3025.57185258,  1152.13252276,  4224.73651965,  3010.19392165,\n",
       "        4548.83111279,  5539.94355488,  7389.92794491,  5874.0505806 ])"
      ]
     },
     "execution_count": 4,
     "metadata": {},
     "output_type": "execute_result"
    }
   ],
   "source": [
    "price"
   ]
  },
  {
   "cell_type": "code",
   "execution_count": 65,
   "id": "79c0e243",
   "metadata": {},
   "outputs": [
    {
     "data": {
      "text/plain": [
       "array([[2.88202617],\n",
       "       [2.2000786 ],\n",
       "       [2.48936899],\n",
       "       [3.1204466 ],\n",
       "       [2.933779  ],\n",
       "       [1.51136106],\n",
       "       [2.47504421],\n",
       "       [1.9243214 ],\n",
       "       [1.94839057],\n",
       "       [2.20529925],\n",
       "       [2.07202179],\n",
       "       [2.72713675],\n",
       "       [2.38051886],\n",
       "       [2.06083751],\n",
       "       [2.22193162],\n",
       "       [2.16683716],\n",
       "       [2.74703954],\n",
       "       [1.89742087],\n",
       "       [2.15653385],\n",
       "       [1.57295213],\n",
       "       [0.72350509],\n",
       "       [2.3268093 ],\n",
       "       [2.4322181 ],\n",
       "       [1.62891749],\n",
       "       [3.13487731],\n",
       "       [1.27281716],\n",
       "       [2.02287926],\n",
       "       [1.90640807],\n",
       "       [2.76638961],\n",
       "       [2.73467938],\n",
       "       [2.07747371],\n",
       "       [2.18908126],\n",
       "       [1.55610713],\n",
       "       [1.00960177],\n",
       "       [1.82604393],\n",
       "       [2.07817448],\n",
       "       [2.61514534],\n",
       "       [2.60118992],\n",
       "       [1.80633659],\n",
       "       [1.84884862],\n",
       "       [1.47572352],\n",
       "       [1.28999103],\n",
       "       [1.1468649 ],\n",
       "       [2.9753877 ],\n",
       "       [1.74517391],\n",
       "       [1.78096285],\n",
       "       [1.37360232],\n",
       "       [2.38874518],\n",
       "       [1.19305108],\n",
       "       [1.89362986],\n",
       "       [1.55226672],\n",
       "       [2.19345125],\n",
       "       [1.74459743],\n",
       "       [1.40968391],\n",
       "       [1.98590889],\n",
       "       [2.21416594],\n",
       "       [2.03325861],\n",
       "       [2.15123595],\n",
       "       [1.68283895],\n",
       "       [1.81862942],\n",
       "       [1.66376978],\n",
       "       [1.82022342],\n",
       "       [1.59342686],\n",
       "       [1.1368587 ],\n",
       "       [2.08871307],\n",
       "       [1.79910953],\n",
       "       [1.18490083],\n",
       "       [2.23139113],\n",
       "       [1.54635082],\n",
       "       [2.0259727 ],\n",
       "       [2.36454528],\n",
       "       [2.06449146],\n",
       "       [2.56970034],\n",
       "       [1.38258709],\n",
       "       [2.20117082],\n",
       "       [1.65759495],\n",
       "       [1.56460143],\n",
       "       [1.71057517],\n",
       "       [1.84422373],\n",
       "       [2.02808267],\n",
       "       [1.41742508],\n",
       "       [2.45041324],\n",
       "       [2.23283122],\n",
       "       [1.23187816],\n",
       "       [2.7441261 ],\n",
       "       [2.94794459],\n",
       "       [2.58938979],\n",
       "       [1.91003758],\n",
       "       [1.46462369],\n",
       "       [2.52722586],\n",
       "       [1.79841153],\n",
       "       [2.61122254],\n",
       "       [2.10413749],\n",
       "       [2.48831952],\n",
       "       [2.1781832 ],\n",
       "       [2.35328658],\n",
       "       [2.00525001],\n",
       "       [2.89293525],\n",
       "       [2.06345605],\n",
       "       [2.20099468]])"
      ]
     },
     "execution_count": 65,
     "metadata": {},
     "output_type": "execute_result"
    }
   ],
   "source": [
    "X=df[\"Engine Size\"].values.reshape(-1,1)\n",
    "X"
   ]
  },
  {
   "cell_type": "code",
   "execution_count": 66,
   "id": "cd1cd225",
   "metadata": {},
   "outputs": [
    {
     "data": {
      "text/html": [
       "<div>\n",
       "<style scoped>\n",
       "    .dataframe tbody tr th:only-of-type {\n",
       "        vertical-align: middle;\n",
       "    }\n",
       "\n",
       "    .dataframe tbody tr th {\n",
       "        vertical-align: top;\n",
       "    }\n",
       "\n",
       "    .dataframe thead th {\n",
       "        text-align: right;\n",
       "    }\n",
       "</style>\n",
       "<table border=\"1\" class=\"dataframe\">\n",
       "  <thead>\n",
       "    <tr style=\"text-align: right;\">\n",
       "      <th></th>\n",
       "      <th>Engine Size</th>\n",
       "      <th>price</th>\n",
       "    </tr>\n",
       "  </thead>\n",
       "  <tbody>\n",
       "    <tr>\n",
       "      <th>0</th>\n",
       "      <td>2.882026</td>\n",
       "      <td>7648.327567</td>\n",
       "    </tr>\n",
       "    <tr>\n",
       "      <th>1</th>\n",
       "      <td>2.200079</td>\n",
       "      <td>504.560482</td>\n",
       "    </tr>\n",
       "    <tr>\n",
       "      <th>2</th>\n",
       "      <td>2.489369</td>\n",
       "      <td>948.398995</td>\n",
       "    </tr>\n",
       "    <tr>\n",
       "      <th>3</th>\n",
       "      <td>3.120447</td>\n",
       "      <td>6059.240016</td>\n",
       "    </tr>\n",
       "    <tr>\n",
       "      <th>4</th>\n",
       "      <td>2.933779</td>\n",
       "      <td>1587.532185</td>\n",
       "    </tr>\n",
       "    <tr>\n",
       "      <th>...</th>\n",
       "      <td>...</td>\n",
       "      <td>...</td>\n",
       "    </tr>\n",
       "    <tr>\n",
       "      <th>95</th>\n",
       "      <td>2.353287</td>\n",
       "      <td>3010.193922</td>\n",
       "    </tr>\n",
       "    <tr>\n",
       "      <th>96</th>\n",
       "      <td>2.005250</td>\n",
       "      <td>4548.831113</td>\n",
       "    </tr>\n",
       "    <tr>\n",
       "      <th>97</th>\n",
       "      <td>2.892935</td>\n",
       "      <td>5539.943555</td>\n",
       "    </tr>\n",
       "    <tr>\n",
       "      <th>98</th>\n",
       "      <td>2.063456</td>\n",
       "      <td>7389.927945</td>\n",
       "    </tr>\n",
       "    <tr>\n",
       "      <th>99</th>\n",
       "      <td>2.200995</td>\n",
       "      <td>5874.050581</td>\n",
       "    </tr>\n",
       "  </tbody>\n",
       "</table>\n",
       "<p>100 rows × 2 columns</p>\n",
       "</div>"
      ],
      "text/plain": [
       "    Engine Size        price\n",
       "0      2.882026  7648.327567\n",
       "1      2.200079   504.560482\n",
       "2      2.489369   948.398995\n",
       "3      3.120447  6059.240016\n",
       "4      2.933779  1587.532185\n",
       "..          ...          ...\n",
       "95     2.353287  3010.193922\n",
       "96     2.005250  4548.831113\n",
       "97     2.892935  5539.943555\n",
       "98     2.063456  7389.927945\n",
       "99     2.200995  5874.050581\n",
       "\n",
       "[100 rows x 2 columns]"
      ]
     },
     "execution_count": 66,
     "metadata": {},
     "output_type": "execute_result"
    }
   ],
   "source": [
    "df=pd.DataFrame({\"Engine Size\": E_S,\"price\":price})\n",
    "df"
   ]
  },
  {
   "cell_type": "code",
   "execution_count": 67,
   "id": "44203b1c",
   "metadata": {},
   "outputs": [
    {
     "data": {
      "text/plain": [
       "0     7648.327567\n",
       "1      504.560482\n",
       "2      948.398995\n",
       "3     6059.240016\n",
       "4     1587.532185\n",
       "         ...     \n",
       "95    3010.193922\n",
       "96    4548.831113\n",
       "97    5539.943555\n",
       "98    7389.927945\n",
       "99    5874.050581\n",
       "Name: price, Length: 100, dtype: float64"
      ]
     },
     "execution_count": 67,
     "metadata": {},
     "output_type": "execute_result"
    }
   ],
   "source": [
    "y=df[\"price\"]\n",
    "y"
   ]
  },
  {
   "cell_type": "code",
   "execution_count": 68,
   "id": "eb98379e",
   "metadata": {
    "scrolled": true
   },
   "outputs": [
    {
     "data": {
      "text/plain": [
       "LinearRegression()"
      ]
     },
     "execution_count": 68,
     "metadata": {},
     "output_type": "execute_result"
    }
   ],
   "source": [
    "model = LR() \n",
    "model.fit(X,Y)"
   ]
  },
  {
   "cell_type": "code",
   "execution_count": 56,
   "id": "34242f70",
   "metadata": {},
   "outputs": [
    {
     "data": {
      "text/plain": [
       "array([4437.00042464, 3442.17958423, 3864.19458942, 4784.80664909,\n",
       "       4512.49711723, 2437.48274624, 3843.29768531, 3039.90669656,\n",
       "       3075.01866298, 3449.79543105, 3255.37109963, 4211.04870998,\n",
       "       3705.40470257, 3239.05554594, 3474.05862149, 3393.68717912,\n",
       "       4240.08276526, 3000.66437526, 3378.65677088, 2527.33141366,\n",
       "       1288.16339672, 3627.05352589, 3780.82322535, 2608.97332935,\n",
       "       4805.85808191, 2089.49640345, 3183.68228927, 3013.77485633,\n",
       "       4268.310527  , 4222.05185351, 3263.32433697, 3426.13672715,\n",
       "       2502.75802713, 1705.51943183, 2896.54013836, 3264.34661834,\n",
       "       4047.67633824, 4027.31826486, 2867.79120295, 2929.80749092,\n",
       "       2385.4949224 , 2114.54953551, 1905.75803865, 4573.19563179,\n",
       "       2778.56746543, 2830.77614696, 2236.52115938, 3717.40519984,\n",
       "       1973.13413629, 2995.13407621, 2497.15566578, 3432.51163991,\n",
       "       2777.72650307, 2289.15675382, 3129.75014105, 3462.73009455,\n",
       "       3198.82362372, 3370.9282247 , 2687.63362225, 2885.72390007,\n",
       "       2659.81562625, 2888.04922052, 2557.19981949, 1891.16104825,\n",
       "       3279.72024241, 2857.24841398, 1961.24460309, 3487.85809743,\n",
       "       2488.52558561, 3188.19497906, 3682.10254198, 3244.38590112,\n",
       "       3981.38145977, 2249.62808533, 3443.77290268, 2650.80783522,\n",
       "       2515.14945762, 2728.09503811, 2923.06072924, 3191.27299477,\n",
       "       2300.44952654, 3807.36618748, 3489.95889477, 2029.77483824,\n",
       "       4235.8326577 , 4533.16179546, 4010.1042963 , 3019.06955855,\n",
       "       2369.30256254, 3919.41995623, 2856.2301681 , 4041.95377463,\n",
       "       3302.22128661, 3862.6636236 , 3410.23870374, 3665.67842536,\n",
       "       3157.96485232, 4452.91451339, 3242.87545292, 3443.51595241])"
      ]
     },
     "execution_count": 56,
     "metadata": {},
     "output_type": "execute_result"
    }
   ],
   "source": [
    "y_pred =model.predict(X)\n",
    "y_pred"
   ]
  },
  {
   "cell_type": "code",
   "execution_count": 69,
   "id": "acf48d40",
   "metadata": {
    "scrolled": true
   },
   "outputs": [],
   "source": [
    "MSE=mean_squared_error(Y,y)\n",
    "MAE=mean_absolute_error(Y,y)\n",
    "R2=r2_score(Y,y)\n"
   ]
  },
  {
   "cell_type": "code",
   "execution_count": 70,
   "id": "94c53e54",
   "metadata": {},
   "outputs": [
    {
     "name": "stdout",
     "output_type": "stream",
     "text": [
      "Mean Squared ERROR= 0.0 \n",
      "MEan Absolute Error =0.0 \n",
      "R2 Score =1.0\n"
     ]
    }
   ],
   "source": [
    "print(f\"Mean Squared ERROR= {MSE} \\nMEan Absolute Error ={MAE} \\nR2 Score ={R2}\")"
   ]
  },
  {
   "cell_type": "code",
   "execution_count": 71,
   "id": "3054b97d",
   "metadata": {},
   "outputs": [
    {
     "data": {
      "text/plain": [
       "<matplotlib.legend.Legend at 0x2afdc4d78e0>"
      ]
     },
     "execution_count": 71,
     "metadata": {},
     "output_type": "execute_result"
    },
    {
     "data": {
      "image/png": "[encoded data removed]",
      "text/plain": [
       "<Figure size 720x360 with 1 Axes>"
      ]
     },
     "metadata": {
      "needs_background": "light"
     },
     "output_type": "display_data"
    }
   ],
   "source": [
    "plt.figure(figsize=(10, 5))\n",
    "plt.scatter(X, Y, color='blue', label='Actual Data')\n",
    "plt.plot(X, y_pred, color='red', label='Predicted Data')\n",
    "plt.xlabel(\"engine size\")\n",
    "plt.ylabel(\"price\")\n",
    "plt.title(\"Linear Regression\")\n",
    "plt.legend()"
   ]
  },
  {
   "cell_type": "markdown",
   "id": "c49f7be5",
   "metadata": {},
   "source": [
    "Multiple Regression"
   ]
  },
  {
   "cell_type": "code",
   "execution_count": 72,
   "id": "d228fc2c",
   "metadata": {},
   "outputs": [],
   "source": [
    "from mpl_toolkits.mplot3d import Axes3D"
   ]
  },
  {
   "cell_type": "code",
   "execution_count": 73,
   "id": "9332f5c2",
   "metadata": {},
   "outputs": [],
   "source": [
    "np.random.seed(0)\n",
    "E_s = np.random.normal(3.0,0.5,100)\n",
    "W_b = np.random.normal(2.0,5.0,100)\n",
    "amt = 1000+ E_s*1000 + np.random.normal(0,2000,100)"
   ]
  },
  {
   "cell_type": "code",
   "execution_count": 74,
   "id": "1feb49a0",
   "metadata": {},
   "outputs": [
    {
     "name": "stdout",
     "output_type": "stream",
     "text": [
      "[3.88202617 3.2000786  3.48936899 4.1204466  3.933779   2.51136106\n",
      " 3.47504421 2.9243214  2.94839057 3.20529925 3.07202179 3.72713675\n",
      " 3.38051886 3.06083751 3.22193162 3.16683716 3.74703954 2.89742087\n",
      " 3.15653385 2.57295213 1.72350509 3.3268093  3.4322181  2.62891749\n",
      " 4.13487731 2.27281716 3.02287926 2.90640807 3.76638961 3.73467938\n",
      " 3.07747371 3.18908126 2.55610713 2.00960177 2.82604393 3.07817448\n",
      " 3.61514534 3.60118992 2.80633659 2.84884862 2.47572352 2.28999103\n",
      " 2.1468649  3.9753877  2.74517391 2.78096285 2.37360232 3.38874518\n",
      " 2.19305108 2.89362986 2.55226672 3.19345125 2.74459743 2.40968391\n",
      " 2.98590889 3.21416594 3.03325861 3.15123595 2.68283895 2.81862942\n",
      " 2.66376978 2.82022342 2.59342686 2.1368587  3.08871307 2.79910953\n",
      " 2.18490083 3.23139113 2.54635082 3.0259727  3.36454528 3.06449146\n",
      " 3.56970034 2.38258709 3.20117082 2.65759495 2.56460143 2.71057517\n",
      " 2.84422373 3.02808267 2.41742508 3.45041324 3.23283122 2.23187816\n",
      " 3.7441261  3.94794459 3.58938979 2.91003758 2.46462369 3.52722586\n",
      " 2.79841153 3.61122254 3.10413749 3.48831952 3.1781832  3.35328658\n",
      " 3.00525001 3.89293525 3.06345605 3.20099468]\n",
      "[11.41575349 -4.73879531 -4.35242499  6.84698354 -3.86561703 11.71810593\n",
      " -0.0680949  -1.73727406 11.61471013  9.40257396 11.3377948   6.53022329\n",
      " -2.30612843 11.55032477  0.65998315  6.01228198  6.73625984  1.22494953\n",
      "  5.07039685  6.61103336  3.88212766 -3.49700395  3.49119087  8.63192948\n",
      " -1.4728393   1.2518273  -0.17576776 11.24631864  5.36147379  4.03730918\n",
      " -1.84958037  4.69624596 -1.3716633   2.15915279 -1.17923039  5.38216647\n",
      "  4.88295408  0.95850622  3.98003356 -3.46530754 -5.45628796  4.19695851\n",
      "  2.83336748  5.17515718 13.91572387  6.72239743 -2.56411113  7.58508144\n",
      " -4.57953705 -0.30792302  1.65879197 10.56671361 -1.72377411 -2.13219269\n",
      "  1.50773738 -1.31739143  7.63317961 -3.39965754 -3.73734326 -0.18910022\n",
      " -0.49016225 11.64766027  6.74710403  2.43775621 -4.12717759  6.22181488\n",
      " -3.00107674 -5.72385548  7.94014896  3.58471306  6.60429412  3.59363826\n",
      "  6.28415306 -1.25512797 -3.17121421  5.40797259 -2.01704832 -1.44774889\n",
      " -0.27766252  2.0873958   0.23003044 -4.87475647 -1.21809201 -9.11701576\n",
      "  5.12615726 -6.01028828 -3.5219167   2.2608254  -1.69781498  9.71507298\n",
      " -4.46428455  3.33525435  1.80358591 -3.84046749  4.6163833   1.14226834\n",
      "  5.85895276  6.11752077 12.81617975  8.68263975]\n",
      "[ 4143.6624971   3721.32024903  6688.68818383  6430.97406105\n",
      "  6214.04204727   277.44897144  4426.39195996  2448.25957744\n",
      "  4508.23977219  4008.99847168  5892.37960177  5361.57318386\n",
      "  5953.17478679  3127.99931477  2333.03910454  3346.73777728\n",
      "  4712.99870886  4655.72433923  8675.15175221  3488.43782703\n",
      "   811.6150911   3634.84574632  3505.02615014  4591.88043734\n",
      "  2053.2832831   3399.3411511   4335.89233458  4370.77014739\n",
      "  3571.75746925  4258.83592548  1229.35189488  3202.44149308\n",
      "  2470.38417415  3841.70185841  1513.67906169  5640.57068797\n",
      "  7604.11442935   461.21987437  4658.85405285  5202.66469477\n",
      "  2200.84946636  2495.44740275  2881.10374951  4379.80593881\n",
      "  3127.14797103   428.95523653  5678.26544954  6547.98236199\n",
      "  1566.32255781   960.78120429  4594.39647231  3041.8753093\n",
      "  4028.50375786  2771.02707365  5368.98638797  5603.66422258\n",
      "  2582.06385426  1384.50803808   516.96215849  5039.38817522\n",
      "  1286.05126054  2806.59071063  2400.79878208  3031.7241063\n",
      "   216.15345943  4176.66672548  4232.68287419  4408.23530185\n",
      "  2924.57847441  4220.77303044  5162.63797237 -1480.69405747\n",
      "  8481.52495877  4162.7737352   2896.35365581  2875.68820415\n",
      "  4552.08498011  3478.36728955  -217.14520163  8157.06839383\n",
      "  3196.34376514  6490.75866691  2848.7315243   6304.63226535\n",
      "  5316.81347468  6165.63225697  2498.88305329  6332.32816146\n",
      "  4844.26001831  7130.9183226   2542.23640723  3649.16829827\n",
      "  8711.97088441  2368.2878728   3906.28379723  6627.0693093\n",
      "  4200.69994579  6058.84260646  3264.55798783  4941.10645742]\n"
     ]
    }
   ],
   "source": [
    "print(E_s)\n",
    "print(W_b)\n",
    "print(amt)"
   ]
  },
  {
   "cell_type": "code",
   "execution_count": 75,
   "id": "e864b3f9",
   "metadata": {},
   "outputs": [
    {
     "data": {
      "text/html": [
       "<div>\n",
       "<style scoped>\n",
       "    .dataframe tbody tr th:only-of-type {\n",
       "        vertical-align: middle;\n",
       "    }\n",
       "\n",
       "    .dataframe tbody tr th {\n",
       "        vertical-align: top;\n",
       "    }\n",
       "\n",
       "    .dataframe thead th {\n",
       "        text-align: right;\n",
       "    }\n",
       "</style>\n",
       "<table border=\"1\" class=\"dataframe\">\n",
       "  <thead>\n",
       "    <tr style=\"text-align: right;\">\n",
       "      <th></th>\n",
       "      <th>Engine size</th>\n",
       "      <th>Wheel base</th>\n",
       "      <th>Amount</th>\n",
       "    </tr>\n",
       "  </thead>\n",
       "  <tbody>\n",
       "    <tr>\n",
       "      <th>0</th>\n",
       "      <td>3.882026</td>\n",
       "      <td>11.415753</td>\n",
       "      <td>4143.662497</td>\n",
       "    </tr>\n",
       "    <tr>\n",
       "      <th>1</th>\n",
       "      <td>3.200079</td>\n",
       "      <td>-4.738795</td>\n",
       "      <td>3721.320249</td>\n",
       "    </tr>\n",
       "    <tr>\n",
       "      <th>2</th>\n",
       "      <td>3.489369</td>\n",
       "      <td>-4.352425</td>\n",
       "      <td>6688.688184</td>\n",
       "    </tr>\n",
       "    <tr>\n",
       "      <th>3</th>\n",
       "      <td>4.120447</td>\n",
       "      <td>6.846984</td>\n",
       "      <td>6430.974061</td>\n",
       "    </tr>\n",
       "    <tr>\n",
       "      <th>4</th>\n",
       "      <td>3.933779</td>\n",
       "      <td>-3.865617</td>\n",
       "      <td>6214.042047</td>\n",
       "    </tr>\n",
       "    <tr>\n",
       "      <th>...</th>\n",
       "      <td>...</td>\n",
       "      <td>...</td>\n",
       "      <td>...</td>\n",
       "    </tr>\n",
       "    <tr>\n",
       "      <th>95</th>\n",
       "      <td>3.353287</td>\n",
       "      <td>1.142268</td>\n",
       "      <td>6627.069309</td>\n",
       "    </tr>\n",
       "    <tr>\n",
       "      <th>96</th>\n",
       "      <td>3.005250</td>\n",
       "      <td>5.858953</td>\n",
       "      <td>4200.699946</td>\n",
       "    </tr>\n",
       "    <tr>\n",
       "      <th>97</th>\n",
       "      <td>3.892935</td>\n",
       "      <td>6.117521</td>\n",
       "      <td>6058.842606</td>\n",
       "    </tr>\n",
       "    <tr>\n",
       "      <th>98</th>\n",
       "      <td>3.063456</td>\n",
       "      <td>12.816180</td>\n",
       "      <td>3264.557988</td>\n",
       "    </tr>\n",
       "    <tr>\n",
       "      <th>99</th>\n",
       "      <td>3.200995</td>\n",
       "      <td>8.682640</td>\n",
       "      <td>4941.106457</td>\n",
       "    </tr>\n",
       "  </tbody>\n",
       "</table>\n",
       "<p>100 rows × 3 columns</p>\n",
       "</div>"
      ],
      "text/plain": [
       "    Engine size  Wheel base       Amount\n",
       "0      3.882026   11.415753  4143.662497\n",
       "1      3.200079   -4.738795  3721.320249\n",
       "2      3.489369   -4.352425  6688.688184\n",
       "3      4.120447    6.846984  6430.974061\n",
       "4      3.933779   -3.865617  6214.042047\n",
       "..          ...         ...          ...\n",
       "95     3.353287    1.142268  6627.069309\n",
       "96     3.005250    5.858953  4200.699946\n",
       "97     3.892935    6.117521  6058.842606\n",
       "98     3.063456   12.816180  3264.557988\n",
       "99     3.200995    8.682640  4941.106457\n",
       "\n",
       "[100 rows x 3 columns]"
      ]
     },
     "execution_count": 75,
     "metadata": {},
     "output_type": "execute_result"
    }
   ],
   "source": [
    "df2 = pd.DataFrame({\"Engine size\" : E_s, \"Wheel base\": W_b, \"Amount\": amt})\n",
    "df2"
   ]
  },
  {
   "cell_type": "code",
   "execution_count": 76,
   "id": "51d4dac5",
   "metadata": {},
   "outputs": [],
   "source": [
    "X1 = df2[[\"Engine size\", \"Wheel base\"]]\n",
    "Y1 = df2[\"Amount\"]"
   ]
  },
  {
   "cell_type": "code",
   "execution_count": 77,
   "id": "e47f8f08",
   "metadata": {},
   "outputs": [
    {
     "data": {
      "text/plain": [
       "LinearRegression()"
      ]
     },
     "execution_count": 77,
     "metadata": {},
     "output_type": "execute_result"
    }
   ],
   "source": [
    "MLRModel = LR()\n",
    "MLRModel.fit(X1,Y1)"
   ]
  },
  {
   "cell_type": "code",
   "execution_count": 78,
   "id": "c4a4a11c",
   "metadata": {},
   "outputs": [],
   "source": [
    "y1 = MLRModel.predict(X1)"
   ]
  },
  {
   "cell_type": "code",
   "execution_count": 79,
   "id": "afd67f09",
   "metadata": {},
   "outputs": [],
   "source": [
    "MSE1 = mean_squared_error(Y1,y1)\n",
    "MAE1=mean_absolute_error(Y1,y1)"
   ]
  },
  {
   "cell_type": "code",
   "execution_count": 80,
   "id": "fae8ea35",
   "metadata": {},
   "outputs": [],
   "source": [
    "R21=r2_score(Y1,y1)"
   ]
  },
  {
   "cell_type": "code",
   "execution_count": 81,
   "id": "3da22315",
   "metadata": {},
   "outputs": [
    {
     "name": "stdout",
     "output_type": "stream",
     "text": [
      "mean squared error = 3595939.186252172 \n",
      " Mean absolute error = 1486.187485929768 \n",
      " R2 error = 0.1066566904762315\n"
     ]
    }
   ],
   "source": [
    "print(f\"mean squared error = {MSE1} \\n Mean absolute error = {MAE1} \\n R2 error = {R21}\")"
   ]
  },
  {
   "cell_type": "code",
   "execution_count": 85,
   "id": "e769894f",
   "metadata": {},
   "outputs": [],
   "source": [
    "x_surf,y_surf = np.meshgrid(\n",
    "    np.linspace(\n",
    "        df2['Engine size'].min(),\n",
    "        df2['Engine size'].max(),\n",
    "        100\n",
    "    ),\n",
    "    np.linspace(\n",
    "        df2['Wheel base'].min(),\n",
    "        df2['Wheel base'].max(),\n",
    "        100\n",
    "    )\n",
    ")"
   ]
  },
  {
   "cell_type": "code",
   "execution_count": 86,
   "id": "c51f6236",
   "metadata": {},
   "outputs": [
    {
     "data": {
      "text/plain": [
       "array([[1.72350509, 1.74786239, 1.77221968, ..., 4.08616272, 4.11052002,\n",
       "        4.13487731],\n",
       "       [1.72350509, 1.74786239, 1.77221968, ..., 4.08616272, 4.11052002,\n",
       "        4.13487731],\n",
       "       [1.72350509, 1.74786239, 1.77221968, ..., 4.08616272, 4.11052002,\n",
       "        4.13487731],\n",
       "       ...,\n",
       "       [1.72350509, 1.74786239, 1.77221968, ..., 4.08616272, 4.11052002,\n",
       "        4.13487731],\n",
       "       [1.72350509, 1.74786239, 1.77221968, ..., 4.08616272, 4.11052002,\n",
       "        4.13487731],\n",
       "       [1.72350509, 1.74786239, 1.77221968, ..., 4.08616272, 4.11052002,\n",
       "        4.13487731]])"
      ]
     },
     "execution_count": 86,
     "metadata": {},
     "output_type": "execute_result"
    }
   ],
   "source": [
    "x_surf"
   ]
  },
  {
   "cell_type": "code",
   "execution_count": 87,
   "id": "dca9a00a",
   "metadata": {},
   "outputs": [
    {
     "data": {
      "text/plain": [
       "array([[-9.11701576, -9.11701576, -9.11701576, ..., -9.11701576,\n",
       "        -9.11701576, -9.11701576],\n",
       "       [-8.88436183, -8.88436183, -8.88436183, ..., -8.88436183,\n",
       "        -8.88436183, -8.88436183],\n",
       "       [-8.65170789, -8.65170789, -8.65170789, ..., -8.65170789,\n",
       "        -8.65170789, -8.65170789],\n",
       "       ...,\n",
       "       [13.450416  , 13.450416  , 13.450416  , ..., 13.450416  ,\n",
       "        13.450416  , 13.450416  ],\n",
       "       [13.68306994, 13.68306994, 13.68306994, ..., 13.68306994,\n",
       "        13.68306994, 13.68306994],\n",
       "       [13.91572387, 13.91572387, 13.91572387, ..., 13.91572387,\n",
       "        13.91572387, 13.91572387]])"
      ]
     },
     "execution_count": 87,
     "metadata": {},
     "output_type": "execute_result"
    }
   ],
   "source": [
    "y_surf"
   ]
  },
  {
   "cell_type": "code",
   "execution_count": 88,
   "id": "61141567",
   "metadata": {},
   "outputs": [
    {
     "data": {
      "text/plain": [
       "array([[ 1.72350509, -9.11701576],\n",
       "       [ 1.74786239, -9.11701576],\n",
       "       [ 1.77221968, -9.11701576],\n",
       "       ...,\n",
       "       [ 4.08616272, 13.91572387],\n",
       "       [ 4.11052002, 13.91572387],\n",
       "       [ 4.13487731, 13.91572387]])"
      ]
     },
     "execution_count": 88,
     "metadata": {},
     "output_type": "execute_result"
    }
   ],
   "source": [
    "xy_surf=np.c_[x_surf.ravel(),y_surf.ravel()]\n",
    "xy_surf"
   ]
  },
  {
   "cell_type": "code",
   "execution_count": 90,
   "id": "eb671757",
   "metadata": {},
   "outputs": [
    {
     "name": "stderr",
     "output_type": "stream",
     "text": [
      "C:\\Users\\student\\anaconda3\\lib\\site-packages\\sklearn\\base.py:450: UserWarning: X does not have valid feature names, but LinearRegression was fitted with feature names\n",
      "  warnings.warn(\n"
     ]
    }
   ],
   "source": [
    "z_surf=MLRModel.predict(xy_surf)"
   ]
  },
  {
   "cell_type": "code",
   "execution_count": 91,
   "id": "b211db65",
   "metadata": {},
   "outputs": [],
   "source": [
    "z_surf = z_surf.reshape(x_surf.shape)"
   ]
  },
  {
   "cell_type": "code",
   "execution_count": 92,
   "id": "361051a0",
   "metadata": {},
   "outputs": [
    {
     "data": {
      "text/plain": [
       "array([[2051.69064242, 2082.55780148, 2113.42496054, ..., 5045.80507147,\n",
       "        5076.67223053, 5107.53938959],\n",
       "       [2055.81195302, 2086.67911209, 2117.54627115, ..., 5049.92638208,\n",
       "        5080.79354114, 5111.6607002 ],\n",
       "       [2059.93326363, 2090.80042269, 2121.66758175, ..., 5054.04769268,\n",
       "        5084.91485174, 5115.78201081],\n",
       "       ...,\n",
       "       [2451.45777114, 2482.32493021, 2513.19208927, ..., 5445.57220019,\n",
       "        5476.43935926, 5507.30651832],\n",
       "       [2455.57908175, 2486.44624081, 2517.31339987, ..., 5449.6935108 ,\n",
       "        5480.56066986, 5511.42782893],\n",
       "       [2459.70039236, 2490.56755142, 2521.43471048, ..., 5453.81482141,\n",
       "        5484.68198047, 5515.54913953]])"
      ]
     },
     "execution_count": 92,
     "metadata": {},
     "output_type": "execute_result"
    }
   ],
   "source": [
    "z_surf "
   ]
  },
  {
   "cell_type": "code",
   "execution_count": 95,
   "id": "11409507",
   "metadata": {},
   "outputs": [
    {
     "ename": "AttributeError",
     "evalue": "'Poly3DCollection' object has no attribute '_facecolors2d'",
     "output_type": "error",
     "traceback": [
      "\u001b[1;31m---------------------------------------------------------------------------\u001b[0m",
      "\u001b[1;31mAttributeError\u001b[0m                            Traceback (most recent call last)",
      "Input \u001b[1;32mIn [95]\u001b[0m, in \u001b[0;36m<cell line: 12>\u001b[1;34m()\u001b[0m\n\u001b[0;32m     10\u001b[0m ax\u001b[38;5;241m.\u001b[39mset_zlabel(\u001b[38;5;124m\"\u001b[39m\u001b[38;5;124mPrice\u001b[39m\u001b[38;5;124m\"\u001b[39m)\n\u001b[0;32m     11\u001b[0m ax\u001b[38;5;241m.\u001b[39mset_title(\u001b[38;5;124m\"\u001b[39m\u001b[38;5;124mEngine Size and Wheel Base VS Price\u001b[39m\u001b[38;5;124m\"\u001b[39m)\n\u001b[1;32m---> 12\u001b[0m \u001b[43mplt\u001b[49m\u001b[38;5;241;43m.\u001b[39;49m\u001b[43mlegend\u001b[49m\u001b[43m(\u001b[49m\u001b[43m)\u001b[49m\n\u001b[0;32m     13\u001b[0m plt\u001b[38;5;241m.\u001b[39mshow()\n",
      "File \u001b[1;32m~\\anaconda3\\lib\\site-packages\\matplotlib\\pyplot.py:2655\u001b[0m, in \u001b[0;36mlegend\u001b[1;34m(*args, **kwargs)\u001b[0m\n\u001b[0;32m   2653\u001b[0m \u001b[38;5;129m@_copy_docstring_and_deprecators\u001b[39m(Axes\u001b[38;5;241m.\u001b[39mlegend)\n\u001b[0;32m   2654\u001b[0m \u001b[38;5;28;01mdef\u001b[39;00m \u001b[38;5;21mlegend\u001b[39m(\u001b[38;5;241m*\u001b[39margs, \u001b[38;5;241m*\u001b[39m\u001b[38;5;241m*\u001b[39mkwargs):\n\u001b[1;32m-> 2655\u001b[0m     \u001b[38;5;28;01mreturn\u001b[39;00m gca()\u001b[38;5;241m.\u001b[39mlegend(\u001b[38;5;241m*\u001b[39margs, \u001b[38;5;241m*\u001b[39m\u001b[38;5;241m*\u001b[39mkwargs)\n",
      "File \u001b[1;32m~\\anaconda3\\lib\\site-packages\\matplotlib\\axes\\_axes.py:305\u001b[0m, in \u001b[0;36mAxes.legend\u001b[1;34m(self, *args, **kwargs)\u001b[0m\n\u001b[0;32m    303\u001b[0m \u001b[38;5;28;01mif\u001b[39;00m \u001b[38;5;28mlen\u001b[39m(extra_args):\n\u001b[0;32m    304\u001b[0m     \u001b[38;5;28;01mraise\u001b[39;00m \u001b[38;5;167;01mTypeError\u001b[39;00m(\u001b[38;5;124m'\u001b[39m\u001b[38;5;124mlegend only accepts two non-keyword arguments\u001b[39m\u001b[38;5;124m'\u001b[39m)\n\u001b[1;32m--> 305\u001b[0m \u001b[38;5;28mself\u001b[39m\u001b[38;5;241m.\u001b[39mlegend_ \u001b[38;5;241m=\u001b[39m mlegend\u001b[38;5;241m.\u001b[39mLegend(\u001b[38;5;28mself\u001b[39m, handles, labels, \u001b[38;5;241m*\u001b[39m\u001b[38;5;241m*\u001b[39mkwargs)\n\u001b[0;32m    306\u001b[0m \u001b[38;5;28mself\u001b[39m\u001b[38;5;241m.\u001b[39mlegend_\u001b[38;5;241m.\u001b[39m_remove_method \u001b[38;5;241m=\u001b[39m \u001b[38;5;28mself\u001b[39m\u001b[38;5;241m.\u001b[39m_remove_legend\n\u001b[0;32m    307\u001b[0m \u001b[38;5;28;01mreturn\u001b[39;00m \u001b[38;5;28mself\u001b[39m\u001b[38;5;241m.\u001b[39mlegend_\n",
      "File \u001b[1;32m~\\anaconda3\\lib\\site-packages\\matplotlib\\legend.py:499\u001b[0m, in \u001b[0;36mLegend.__init__\u001b[1;34m(self, parent, handles, labels, loc, numpoints, markerscale, markerfirst, scatterpoints, scatteryoffsets, prop, fontsize, labelcolor, borderpad, labelspacing, handlelength, handleheight, handletextpad, borderaxespad, columnspacing, ncol, mode, fancybox, shadow, title, title_fontsize, framealpha, edgecolor, facecolor, bbox_to_anchor, bbox_transform, frameon, handler_map, title_fontproperties)\u001b[0m\n\u001b[0;32m    496\u001b[0m \u001b[38;5;28mself\u001b[39m\u001b[38;5;241m.\u001b[39m_set_artist_props(\u001b[38;5;28mself\u001b[39m\u001b[38;5;241m.\u001b[39mlegendPatch)\n\u001b[0;32m    498\u001b[0m \u001b[38;5;66;03m# init with null renderer\u001b[39;00m\n\u001b[1;32m--> 499\u001b[0m \u001b[38;5;28;43mself\u001b[39;49m\u001b[38;5;241;43m.\u001b[39;49m\u001b[43m_init_legend_box\u001b[49m\u001b[43m(\u001b[49m\u001b[43mhandles\u001b[49m\u001b[43m,\u001b[49m\u001b[43m \u001b[49m\u001b[43mlabels\u001b[49m\u001b[43m,\u001b[49m\u001b[43m \u001b[49m\u001b[43mmarkerfirst\u001b[49m\u001b[43m)\u001b[49m\n\u001b[0;32m    501\u001b[0m tmp \u001b[38;5;241m=\u001b[39m \u001b[38;5;28mself\u001b[39m\u001b[38;5;241m.\u001b[39m_loc_used_default\n\u001b[0;32m    502\u001b[0m \u001b[38;5;28mself\u001b[39m\u001b[38;5;241m.\u001b[39m_set_loc(loc)\n",
      "File \u001b[1;32m~\\anaconda3\\lib\\site-packages\\matplotlib\\legend.py:780\u001b[0m, in \u001b[0;36mLegend._init_legend_box\u001b[1;34m(self, handles, labels, markerfirst)\u001b[0m\n\u001b[0;32m    777\u001b[0m         text_list\u001b[38;5;241m.\u001b[39mappend(textbox\u001b[38;5;241m.\u001b[39m_text)\n\u001b[0;32m    778\u001b[0m         \u001b[38;5;66;03m# Create the artist for the legend which represents the\u001b[39;00m\n\u001b[0;32m    779\u001b[0m         \u001b[38;5;66;03m# original artist/handle.\u001b[39;00m\n\u001b[1;32m--> 780\u001b[0m         handle_list\u001b[38;5;241m.\u001b[39mappend(\u001b[43mhandler\u001b[49m\u001b[38;5;241;43m.\u001b[39;49m\u001b[43mlegend_artist\u001b[49m\u001b[43m(\u001b[49m\u001b[38;5;28;43mself\u001b[39;49m\u001b[43m,\u001b[49m\u001b[43m \u001b[49m\u001b[43morig_handle\u001b[49m\u001b[43m,\u001b[49m\n\u001b[0;32m    781\u001b[0m \u001b[43m                                                 \u001b[49m\u001b[43mfontsize\u001b[49m\u001b[43m,\u001b[49m\u001b[43m \u001b[49m\u001b[43mhandlebox\u001b[49m\u001b[43m)\u001b[49m)\n\u001b[0;32m    782\u001b[0m         handles_and_labels\u001b[38;5;241m.\u001b[39mappend((handlebox, textbox))\n\u001b[0;32m    784\u001b[0m \u001b[38;5;28;01mif\u001b[39;00m handles_and_labels:\n\u001b[0;32m    785\u001b[0m     \u001b[38;5;66;03m# We calculate number of rows in each column. The first\u001b[39;00m\n\u001b[0;32m    786\u001b[0m     \u001b[38;5;66;03m# (num_largecol) columns will have (nrows+1) rows, and remaining\u001b[39;00m\n\u001b[0;32m    787\u001b[0m     \u001b[38;5;66;03m# (num_smallcol) columns will have (nrows) rows.\u001b[39;00m\n",
      "File \u001b[1;32m~\\anaconda3\\lib\\site-packages\\matplotlib\\legend_handler.py:119\u001b[0m, in \u001b[0;36mHandlerBase.legend_artist\u001b[1;34m(self, legend, orig_handle, fontsize, handlebox)\u001b[0m\n\u001b[0;32m     95\u001b[0m \u001b[38;5;124;03m\"\"\"\u001b[39;00m\n\u001b[0;32m     96\u001b[0m \u001b[38;5;124;03mReturn the artist that this HandlerBase generates for the given\u001b[39;00m\n\u001b[0;32m     97\u001b[0m \u001b[38;5;124;03moriginal artist/handle.\u001b[39;00m\n\u001b[1;32m   (...)\u001b[0m\n\u001b[0;32m    112\u001b[0m \n\u001b[0;32m    113\u001b[0m \u001b[38;5;124;03m\"\"\"\u001b[39;00m\n\u001b[0;32m    114\u001b[0m xdescent, ydescent, width, height \u001b[38;5;241m=\u001b[39m \u001b[38;5;28mself\u001b[39m\u001b[38;5;241m.\u001b[39madjust_drawing_area(\n\u001b[0;32m    115\u001b[0m          legend, orig_handle,\n\u001b[0;32m    116\u001b[0m          handlebox\u001b[38;5;241m.\u001b[39mxdescent, handlebox\u001b[38;5;241m.\u001b[39mydescent,\n\u001b[0;32m    117\u001b[0m          handlebox\u001b[38;5;241m.\u001b[39mwidth, handlebox\u001b[38;5;241m.\u001b[39mheight,\n\u001b[0;32m    118\u001b[0m          fontsize)\n\u001b[1;32m--> 119\u001b[0m artists \u001b[38;5;241m=\u001b[39m \u001b[38;5;28;43mself\u001b[39;49m\u001b[38;5;241;43m.\u001b[39;49m\u001b[43mcreate_artists\u001b[49m\u001b[43m(\u001b[49m\u001b[43mlegend\u001b[49m\u001b[43m,\u001b[49m\u001b[43m \u001b[49m\u001b[43morig_handle\u001b[49m\u001b[43m,\u001b[49m\n\u001b[0;32m    120\u001b[0m \u001b[43m                              \u001b[49m\u001b[43mxdescent\u001b[49m\u001b[43m,\u001b[49m\u001b[43m \u001b[49m\u001b[43mydescent\u001b[49m\u001b[43m,\u001b[49m\u001b[43m \u001b[49m\u001b[43mwidth\u001b[49m\u001b[43m,\u001b[49m\u001b[43m \u001b[49m\u001b[43mheight\u001b[49m\u001b[43m,\u001b[49m\n\u001b[0;32m    121\u001b[0m \u001b[43m                              \u001b[49m\u001b[43mfontsize\u001b[49m\u001b[43m,\u001b[49m\u001b[43m \u001b[49m\u001b[43mhandlebox\u001b[49m\u001b[38;5;241;43m.\u001b[39;49m\u001b[43mget_transform\u001b[49m\u001b[43m(\u001b[49m\u001b[43m)\u001b[49m\u001b[43m)\u001b[49m\n\u001b[0;32m    123\u001b[0m \u001b[38;5;28;01mif\u001b[39;00m \u001b[38;5;28misinstance\u001b[39m(artists, _Line2DHandleList):\n\u001b[0;32m    124\u001b[0m     artists \u001b[38;5;241m=\u001b[39m [artists[\u001b[38;5;241m0\u001b[39m]]\n",
      "File \u001b[1;32m~\\anaconda3\\lib\\site-packages\\matplotlib\\legend_handler.py:833\u001b[0m, in \u001b[0;36mHandlerPolyCollection.create_artists\u001b[1;34m(self, legend, orig_handle, xdescent, ydescent, width, height, fontsize, trans)\u001b[0m\n\u001b[0;32m    829\u001b[0m \u001b[38;5;28;01mdef\u001b[39;00m \u001b[38;5;21mcreate_artists\u001b[39m(\u001b[38;5;28mself\u001b[39m, legend, orig_handle,\n\u001b[0;32m    830\u001b[0m                    xdescent, ydescent, width, height, fontsize, trans):\n\u001b[0;32m    831\u001b[0m     p \u001b[38;5;241m=\u001b[39m Rectangle(xy\u001b[38;5;241m=\u001b[39m(\u001b[38;5;241m-\u001b[39mxdescent, \u001b[38;5;241m-\u001b[39mydescent),\n\u001b[0;32m    832\u001b[0m                   width\u001b[38;5;241m=\u001b[39mwidth, height\u001b[38;5;241m=\u001b[39mheight)\n\u001b[1;32m--> 833\u001b[0m     \u001b[38;5;28;43mself\u001b[39;49m\u001b[38;5;241;43m.\u001b[39;49m\u001b[43mupdate_prop\u001b[49m\u001b[43m(\u001b[49m\u001b[43mp\u001b[49m\u001b[43m,\u001b[49m\u001b[43m \u001b[49m\u001b[43morig_handle\u001b[49m\u001b[43m,\u001b[49m\u001b[43m \u001b[49m\u001b[43mlegend\u001b[49m\u001b[43m)\u001b[49m\n\u001b[0;32m    834\u001b[0m     p\u001b[38;5;241m.\u001b[39mset_transform(trans)\n\u001b[0;32m    835\u001b[0m     \u001b[38;5;28;01mreturn\u001b[39;00m [p]\n",
      "File \u001b[1;32m~\\anaconda3\\lib\\site-packages\\matplotlib\\legend_handler.py:78\u001b[0m, in \u001b[0;36mHandlerBase.update_prop\u001b[1;34m(self, legend_handle, orig_handle, legend)\u001b[0m\n\u001b[0;32m     76\u001b[0m \u001b[38;5;28;01mdef\u001b[39;00m \u001b[38;5;21mupdate_prop\u001b[39m(\u001b[38;5;28mself\u001b[39m, legend_handle, orig_handle, legend):\n\u001b[1;32m---> 78\u001b[0m     \u001b[38;5;28;43mself\u001b[39;49m\u001b[38;5;241;43m.\u001b[39;49m\u001b[43m_update_prop\u001b[49m\u001b[43m(\u001b[49m\u001b[43mlegend_handle\u001b[49m\u001b[43m,\u001b[49m\u001b[43m \u001b[49m\u001b[43morig_handle\u001b[49m\u001b[43m)\u001b[49m\n\u001b[0;32m     80\u001b[0m     legend\u001b[38;5;241m.\u001b[39m_set_artist_props(legend_handle)\n\u001b[0;32m     81\u001b[0m     legend_handle\u001b[38;5;241m.\u001b[39mset_clip_box(\u001b[38;5;28;01mNone\u001b[39;00m)\n",
      "File \u001b[1;32m~\\anaconda3\\lib\\site-packages\\matplotlib\\legend_handler.py:816\u001b[0m, in \u001b[0;36mHandlerPolyCollection._update_prop\u001b[1;34m(self, legend_handle, orig_handle)\u001b[0m\n\u001b[0;32m    812\u001b[0m         \u001b[38;5;28;01mreturn\u001b[39;00m \u001b[38;5;28;01mNone\u001b[39;00m\n\u001b[0;32m    814\u001b[0m \u001b[38;5;66;03m# orig_handle is a PolyCollection and legend_handle is a Patch.\u001b[39;00m\n\u001b[0;32m    815\u001b[0m \u001b[38;5;66;03m# Directly set Patch color attributes (must be RGBA tuples).\u001b[39;00m\n\u001b[1;32m--> 816\u001b[0m legend_handle\u001b[38;5;241m.\u001b[39m_facecolor \u001b[38;5;241m=\u001b[39m first_color(\u001b[43morig_handle\u001b[49m\u001b[38;5;241;43m.\u001b[39;49m\u001b[43mget_facecolor\u001b[49m\u001b[43m(\u001b[49m\u001b[43m)\u001b[49m)\n\u001b[0;32m    817\u001b[0m legend_handle\u001b[38;5;241m.\u001b[39m_edgecolor \u001b[38;5;241m=\u001b[39m first_color(orig_handle\u001b[38;5;241m.\u001b[39mget_edgecolor())\n\u001b[0;32m    818\u001b[0m legend_handle\u001b[38;5;241m.\u001b[39m_fill \u001b[38;5;241m=\u001b[39m orig_handle\u001b[38;5;241m.\u001b[39mget_fill()\n",
      "File \u001b[1;32m~\\anaconda3\\lib\\site-packages\\mpl_toolkits\\mplot3d\\art3d.py:885\u001b[0m, in \u001b[0;36mPoly3DCollection.get_facecolor\u001b[1;34m(self)\u001b[0m\n\u001b[0;32m    884\u001b[0m \u001b[38;5;28;01mdef\u001b[39;00m \u001b[38;5;21mget_facecolor\u001b[39m(\u001b[38;5;28mself\u001b[39m):\n\u001b[1;32m--> 885\u001b[0m     \u001b[38;5;28;01mreturn\u001b[39;00m \u001b[38;5;28;43mself\u001b[39;49m\u001b[38;5;241;43m.\u001b[39;49m\u001b[43m_facecolors2d\u001b[49m\n",
      "\u001b[1;31mAttributeError\u001b[0m: 'Poly3DCollection' object has no attribute '_facecolors2d'"
     ]
    },
    {
     "data": {
      "image/png": "[encoded data removed]",
      "text/plain": [
       "<Figure size 432x288 with 1 Axes>"
      ]
     },
     "metadata": {
      "needs_background": "light"
     },
     "output_type": "display_data"
    }
   ],
   "source": [
    "fig = plt.figure()\n",
    "ax = fig.add_subplot(111,projection ='3d')\n",
    "\n",
    "ax.scatter(df2[\"Engine size\"],df2[\"Wheel base\"],df2[\"Amount\"],color= 'blue',label=\"Actual data\")\n",
    "\n",
    "ax.plot_surface(x_surf,y_surf,z_surf,color=\"red\",label = \"Predicted Value\",alpha=0.5)\n",
    "\n",
    "ax.set_xlabel(\"Engine Size\")\n",
    "ax.set_ylabel(\"Wheel Base\")\n",
    "ax.set_zlabel(\"Price\")\n",
    "ax.set_title(\"Engine Size and Wheel Base VS Price\")\n",
    "plt.legend()\n",
    "plt.show()\n",
    "\n"
   ]
  },
  {
   "cell_type": "code",
   "execution_count": null,
   "id": "96fc1ce6",
   "metadata": {},
   "outputs": [],
   "source": []
  }
 ],
 "metadata": {
  "kernelspec": {
   "display_name": "Python 3 (ipykernel)",
   "language": "python",
   "name": "python3"
  },
  "language_info": {
   "codemirror_mode": {
    "name": "ipython",
    "version": 3
   },
   "file_extension": ".py",
   "mimetype": "text/x-python",
   "name": "python",
   "nbconvert_exporter": "python",
   "pygments_lexer": "ipython3",
   "version": "3.9.12"
  }
 },
 "nbformat": 4,
 "nbformat_minor": 5
}
